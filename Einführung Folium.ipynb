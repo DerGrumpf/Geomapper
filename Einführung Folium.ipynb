{
 "cells": [
  {
   "cell_type": "markdown",
   "id": "ebd295cc-8e6d-435e-a91a-881bf3798b5b",
   "metadata": {
    "nbgrader": {
     "grade": false,
     "grade_id": "cell-275178a1d9bade57",
     "locked": true,
     "schema_version": 3,
     "solution": false,
     "task": false
    },
    "tags": []
   },
   "source": [
    "# Geospatial Data\n",
    "\n",
    "In the following we will look at how maps can be displayed using Python & the Folium API.\n",
    "\n",
    "[Folium](https://python-visualization.github.io/folium/) is a Python wrapper that binds the open source library [Leaflet.js](https://leafletjs.com/).\n",
    "\n",
    "In this way, the developers aim to combine the advantages of data processing with Python, as well as the visualization advantages of the Web.\n",
    "\n",
    "Objectives of this exercise:\n",
    "1. create simple maps with different terrain options\n",
    "2. set and adjust markers\n",
    "    1. creating a marker\n",
    "    2. popup & tooltip\n",
    "    3. icons & colors\n",
    "    4. circle marker\n",
    "    5. setting own markers\n",
    "3. layer groups\n",
    "4. plugins\n",
    "5. handling GeoJSON data\n",
    "\n",
    "\n",
    "__For the entire exercise, all parameters are basically given for illustrative purposes. Unless explicitly requested, you do not have to do this.__"
   ]
  },
  {
   "cell_type": "markdown",
   "id": "4a676854-ebc9-439f-8414-5fe39e65dc13",
   "metadata": {
    "nbgrader": {
     "grade": false,
     "grade_id": "cell-d18e7620cb44ddf4",
     "locked": true,
     "schema_version": 3,
     "solution": false,
     "task": false
    },
    "tags": []
   },
   "source": [
    "## Creating maps\n",
    "\n",
    "The default object of every Folium App is the [Map](https://python-visualization.github.io/folium/modules.html#module-folium.map).\n",
    "\n",
    "### Location\n",
    "To create it, you only need the _location_ parameter which takes a tuple of two floats.\n",
    "The first value is the latitude (lat) and the second the longitude (lon). (For Braunschweig this would be lat: 52.264150 & lon: 10.526420)\n",
    "\n",
    "### Tiles\n",
    "Folium supports the display of different types of maps. These are specified as a string for the tiles parameter when creating the map.\n",
    "\n",
    "Possible maps are:\n",
    "\n",
    "1. _OpenStreetMap_ (default)\n",
    "2. _Stamen Terrain_\n",
    "3. _Stamen Toner_\n",
    "\n",
    "### Zoom\n",
    "The default _zoom_ setting of the map can be adjusted by the following 3 parameters:\n",
    "\n",
    "- _zoom_start_ (default: 10) creates the map with a zoom setting between _min_zoom_ & _max_zoom_.\n",
    "- _min_zoom_ (default: 0) & _max_zoom_ (default: 18) limits the possible zoom radius. Generally not necessary.\n",
    "\n",
    "### Optimization\n",
    "If one of the following cells has excessive computation times, the parameter _prefer_canvas=True_ should be specified for the map object. This will force the web browser to use the web graphics library ([WebGL](https://github.com/KhronosGroup/WebGL)) and will result in a speed bonus, e.g. thousands of markers. By default _prefer_canvas_ is set to _False_ and should only be used if you really want to display lots of data!\n",
    "\n",
    "The following example illustrates the creation of the map object:"
   ]
  },
  {
   "cell_type": "code",
   "execution_count": 1,
   "id": "ecd035c9-c1bc-4393-8681-2c058caca527",
   "metadata": {
    "nbgrader": {
     "grade": false,
     "grade_id": "cell-1a3da7284c8a4450",
     "locked": true,
     "schema_version": 3,
     "solution": false,
     "task": false
    },
    "tags": []
   },
   "outputs": [
    {
     "data": {
      "text/html": [
       "<div style=\"width:100%;\"><div style=\"position:relative;width:100%;height:0;padding-bottom:60%;\"><span style=\"color:#565656\">Make this Notebook Trusted to load map: File -> Trust Notebook</span><iframe srcdoc=\"&lt;!DOCTYPE html&gt;\n",
       "&lt;html&gt;\n",
       "&lt;head&gt;\n",
       "    \n",
       "    &lt;meta http-equiv=&quot;content-type&quot; content=&quot;text/html; charset=UTF-8&quot; /&gt;\n",
       "    \n",
       "        &lt;script&gt;\n",
       "            L_NO_TOUCH = false;\n",
       "            L_DISABLE_3D = false;\n",
       "        &lt;/script&gt;\n",
       "    \n",
       "    &lt;style&gt;html, body {width: 100%;height: 100%;margin: 0;padding: 0;}&lt;/style&gt;\n",
       "    &lt;style&gt;#map {position:absolute;top:0;bottom:0;right:0;left:0;}&lt;/style&gt;\n",
       "    &lt;script src=&quot;https://cdn.jsdelivr.net/npm/leaflet@1.6.0/dist/leaflet.js&quot;&gt;&lt;/script&gt;\n",
       "    &lt;script src=&quot;https://code.jquery.com/jquery-1.12.4.min.js&quot;&gt;&lt;/script&gt;\n",
       "    &lt;script src=&quot;https://maxcdn.bootstrapcdn.com/bootstrap/3.2.0/js/bootstrap.min.js&quot;&gt;&lt;/script&gt;\n",
       "    &lt;script src=&quot;https://cdnjs.cloudflare.com/ajax/libs/Leaflet.awesome-markers/2.0.2/leaflet.awesome-markers.js&quot;&gt;&lt;/script&gt;\n",
       "    &lt;link rel=&quot;stylesheet&quot; href=&quot;https://cdn.jsdelivr.net/npm/leaflet@1.6.0/dist/leaflet.css&quot;/&gt;\n",
       "    &lt;link rel=&quot;stylesheet&quot; href=&quot;https://maxcdn.bootstrapcdn.com/bootstrap/3.2.0/css/bootstrap.min.css&quot;/&gt;\n",
       "    &lt;link rel=&quot;stylesheet&quot; href=&quot;https://maxcdn.bootstrapcdn.com/bootstrap/3.2.0/css/bootstrap-theme.min.css&quot;/&gt;\n",
       "    &lt;link rel=&quot;stylesheet&quot; href=&quot;https://maxcdn.bootstrapcdn.com/font-awesome/4.6.3/css/font-awesome.min.css&quot;/&gt;\n",
       "    &lt;link rel=&quot;stylesheet&quot; href=&quot;https://cdnjs.cloudflare.com/ajax/libs/Leaflet.awesome-markers/2.0.2/leaflet.awesome-markers.css&quot;/&gt;\n",
       "    &lt;link rel=&quot;stylesheet&quot; href=&quot;https://cdn.jsdelivr.net/gh/python-visualization/folium/folium/templates/leaflet.awesome.rotate.min.css&quot;/&gt;\n",
       "    \n",
       "            &lt;meta name=&quot;viewport&quot; content=&quot;width=device-width,\n",
       "                initial-scale=1.0, maximum-scale=1.0, user-scalable=no&quot; /&gt;\n",
       "            &lt;style&gt;\n",
       "                #map_09c1c21d8e395d7c86be9fc4e91b6071 {\n",
       "                    position: relative;\n",
       "                    width: 100.0%;\n",
       "                    height: 100.0%;\n",
       "                    left: 0.0%;\n",
       "                    top: 0.0%;\n",
       "                }\n",
       "            &lt;/style&gt;\n",
       "        \n",
       "&lt;/head&gt;\n",
       "&lt;body&gt;\n",
       "    \n",
       "    \n",
       "            &lt;div class=&quot;folium-map&quot; id=&quot;map_09c1c21d8e395d7c86be9fc4e91b6071&quot; &gt;&lt;/div&gt;\n",
       "        \n",
       "&lt;/body&gt;\n",
       "&lt;script&gt;\n",
       "    \n",
       "    \n",
       "            var map_09c1c21d8e395d7c86be9fc4e91b6071 = L.map(\n",
       "                &quot;map_09c1c21d8e395d7c86be9fc4e91b6071&quot;,\n",
       "                {\n",
       "                    center: [52.26415, 10.52642],\n",
       "                    crs: L.CRS.EPSG3857,\n",
       "                    zoom: 13,\n",
       "                    zoomControl: true,\n",
       "                    preferCanvas: false,\n",
       "                }\n",
       "            );\n",
       "\n",
       "            \n",
       "\n",
       "        \n",
       "    \n",
       "            var tile_layer_d84c862642aa1f35cba3819c230a881e = L.tileLayer(\n",
       "                &quot;https://{s}.tile.openstreetmap.org/{z}/{x}/{y}.png&quot;,\n",
       "                {&quot;attribution&quot;: &quot;Data by \\u0026copy; \\u003ca href=\\&quot;http://openstreetmap.org\\&quot;\\u003eOpenStreetMap\\u003c/a\\u003e, under \\u003ca href=\\&quot;http://www.openstreetmap.org/copyright\\&quot;\\u003eODbL\\u003c/a\\u003e.&quot;, &quot;detectRetina&quot;: false, &quot;maxNativeZoom&quot;: 18, &quot;maxZoom&quot;: 18, &quot;minZoom&quot;: 0, &quot;noWrap&quot;: false, &quot;opacity&quot;: 1, &quot;subdomains&quot;: &quot;abc&quot;, &quot;tms&quot;: false}\n",
       "            ).addTo(map_09c1c21d8e395d7c86be9fc4e91b6071);\n",
       "        \n",
       "&lt;/script&gt;\n",
       "&lt;/html&gt;\" style=\"position:absolute;width:100%;height:100%;left:0;top:0;border:none !important;\" allowfullscreen webkitallowfullscreen mozallowfullscreen></iframe></div></div>"
      ],
      "text/plain": [
       "<folium.folium.Map at 0x7fd2d98f7010>"
      ]
     },
     "execution_count": 1,
     "metadata": {},
     "output_type": "execute_result"
    }
   ],
   "source": [
    "import folium\n",
    "\n",
    "m = folium.Map(\n",
    "        location=(52.264150, 10.526420),\n",
    "        tiles='OpenStreetMap',\n",
    "        zoom_start=13,\n",
    "        prefer_canvas=False\n",
    "    )\n",
    "m"
   ]
  },
  {
   "cell_type": "markdown",
   "id": "94976e7f-1354-428e-ba9d-32ad696e27f4",
   "metadata": {
    "nbgrader": {
     "grade": false,
     "grade_id": "cell-bbb8367d84f43da2",
     "locked": true,
     "schema_version": 3,
     "solution": false,
     "task": false
    },
    "tags": []
   },
   "source": [
    "## Exercise 1: Create a map\n",
    "\n",
    "Create a map with the coordinates of your hometown, or your favorite city (Braunschweig does not count as a solution).\n",
    "\n",
    "Adjust the _zoom_start_ parameter so that your place is visible in the center.\n",
    "\n",
    "Use _Stamen Terrain_ as tileset.\n",
    "\n",
    "Set the _prefer_canvas_ parameter to _True_.\n",
    "\n",
    "To find out which coordinates your place has you can use the online tool [latlong.net](https://www.latlong.net/).\n",
    "\n",
    "Also please add your city as a comment.\n",
    "\n",
    "In case of problems, please check the Folium API [Map](https://python-visualization.github.io/folium/modules.html#module-folium.map) object.\n"
   ]
  },
  {
   "cell_type": "code",
   "execution_count": 89,
   "id": "a05ad147-1990-4d96-983d-c128b60125b5",
   "metadata": {
    "nbgrader": {
     "grade": true,
     "grade_id": "cell-6099ccde55688a94",
     "locked": false,
     "points": 0,
     "schema_version": 3,
     "solution": true,
     "task": false
    },
    "tags": []
   },
   "outputs": [
    {
     "data": {
      "text/html": [
       "<div style=\"width:100%;\"><div style=\"position:relative;width:100%;height:0;padding-bottom:60%;\"><span style=\"color:#565656\">Make this Notebook Trusted to load map: File -> Trust Notebook</span><iframe srcdoc=\"&lt;!DOCTYPE html&gt;\n",
       "&lt;html&gt;\n",
       "&lt;head&gt;\n",
       "    \n",
       "    &lt;meta http-equiv=&quot;content-type&quot; content=&quot;text/html; charset=UTF-8&quot; /&gt;\n",
       "    \n",
       "        &lt;script&gt;\n",
       "            L_NO_TOUCH = false;\n",
       "            L_DISABLE_3D = false;\n",
       "        &lt;/script&gt;\n",
       "    \n",
       "    &lt;style&gt;html, body {width: 100%;height: 100%;margin: 0;padding: 0;}&lt;/style&gt;\n",
       "    &lt;style&gt;#map {position:absolute;top:0;bottom:0;right:0;left:0;}&lt;/style&gt;\n",
       "    &lt;script src=&quot;https://cdn.jsdelivr.net/npm/leaflet@1.6.0/dist/leaflet.js&quot;&gt;&lt;/script&gt;\n",
       "    &lt;script src=&quot;https://code.jquery.com/jquery-1.12.4.min.js&quot;&gt;&lt;/script&gt;\n",
       "    &lt;script src=&quot;https://maxcdn.bootstrapcdn.com/bootstrap/3.2.0/js/bootstrap.min.js&quot;&gt;&lt;/script&gt;\n",
       "    &lt;script src=&quot;https://cdnjs.cloudflare.com/ajax/libs/Leaflet.awesome-markers/2.0.2/leaflet.awesome-markers.js&quot;&gt;&lt;/script&gt;\n",
       "    &lt;link rel=&quot;stylesheet&quot; href=&quot;https://cdn.jsdelivr.net/npm/leaflet@1.6.0/dist/leaflet.css&quot;/&gt;\n",
       "    &lt;link rel=&quot;stylesheet&quot; href=&quot;https://maxcdn.bootstrapcdn.com/bootstrap/3.2.0/css/bootstrap.min.css&quot;/&gt;\n",
       "    &lt;link rel=&quot;stylesheet&quot; href=&quot;https://maxcdn.bootstrapcdn.com/bootstrap/3.2.0/css/bootstrap-theme.min.css&quot;/&gt;\n",
       "    &lt;link rel=&quot;stylesheet&quot; href=&quot;https://maxcdn.bootstrapcdn.com/font-awesome/4.6.3/css/font-awesome.min.css&quot;/&gt;\n",
       "    &lt;link rel=&quot;stylesheet&quot; href=&quot;https://cdnjs.cloudflare.com/ajax/libs/Leaflet.awesome-markers/2.0.2/leaflet.awesome-markers.css&quot;/&gt;\n",
       "    &lt;link rel=&quot;stylesheet&quot; href=&quot;https://cdn.jsdelivr.net/gh/python-visualization/folium/folium/templates/leaflet.awesome.rotate.min.css&quot;/&gt;\n",
       "    \n",
       "            &lt;meta name=&quot;viewport&quot; content=&quot;width=device-width,\n",
       "                initial-scale=1.0, maximum-scale=1.0, user-scalable=no&quot; /&gt;\n",
       "            &lt;style&gt;\n",
       "                #map_5b86595378d8a399779b7b40bad733e3 {\n",
       "                    position: relative;\n",
       "                    width: 100.0%;\n",
       "                    height: 100.0%;\n",
       "                    left: 0.0%;\n",
       "                    top: 0.0%;\n",
       "                }\n",
       "            &lt;/style&gt;\n",
       "        \n",
       "&lt;/head&gt;\n",
       "&lt;body&gt;\n",
       "    \n",
       "    \n",
       "            &lt;div class=&quot;folium-map&quot; id=&quot;map_5b86595378d8a399779b7b40bad733e3&quot; &gt;&lt;/div&gt;\n",
       "        \n",
       "&lt;/body&gt;\n",
       "&lt;script&gt;\n",
       "    \n",
       "    \n",
       "            var map_5b86595378d8a399779b7b40bad733e3 = L.map(\n",
       "                &quot;map_5b86595378d8a399779b7b40bad733e3&quot;,\n",
       "                {\n",
       "                    center: [0, 0],\n",
       "                    crs: L.CRS.EPSG3857,\n",
       "                    zoom: 1,\n",
       "                    zoomControl: true,\n",
       "                    preferCanvas: false,\n",
       "                }\n",
       "            );\n",
       "\n",
       "            \n",
       "\n",
       "        \n",
       "    \n",
       "            var tile_layer_108582208c0653fb85b739c7a2045ba3 = L.tileLayer(\n",
       "                &quot;https://{s}.tile.openstreetmap.org/{z}/{x}/{y}.png&quot;,\n",
       "                {&quot;attribution&quot;: &quot;Data by \\u0026copy; \\u003ca href=\\&quot;http://openstreetmap.org\\&quot;\\u003eOpenStreetMap\\u003c/a\\u003e, under \\u003ca href=\\&quot;http://www.openstreetmap.org/copyright\\&quot;\\u003eODbL\\u003c/a\\u003e.&quot;, &quot;detectRetina&quot;: false, &quot;maxNativeZoom&quot;: 18, &quot;maxZoom&quot;: 18, &quot;minZoom&quot;: 0, &quot;noWrap&quot;: false, &quot;opacity&quot;: 1, &quot;subdomains&quot;: &quot;abc&quot;, &quot;tms&quot;: false}\n",
       "            ).addTo(map_5b86595378d8a399779b7b40bad733e3);\n",
       "        \n",
       "&lt;/script&gt;\n",
       "&lt;/html&gt;\" style=\"position:absolute;width:100%;height:100%;left:0;top:0;border:none !important;\" allowfullscreen webkitallowfullscreen mozallowfullscreen></iframe></div></div>"
      ],
      "text/plain": [
       "<folium.folium.Map at 0x7fd29f494040>"
      ]
     },
     "execution_count": 89,
     "metadata": {},
     "output_type": "execute_result"
    }
   ],
   "source": [
    "### BEGIN SOLUTION\n",
    "\n",
    "# Your City: \n",
    "\n",
    "my_map = folium.Map()\n",
    "\n",
    "### END SOLUTION\n",
    "my_map"
   ]
  },
  {
   "cell_type": "markdown",
   "id": "d057d2a5-9699-4a88-bea7-46adaa096f54",
   "metadata": {
    "nbgrader": {
     "grade": false,
     "grade_id": "cell-ad368f2ba205c714",
     "locked": true,
     "schema_version": 3,
     "solution": false,
     "task": false
    },
    "tags": []
   },
   "source": [
    "## Marker \n",
    "\n",
    "The quintessence of any GeoSpatial Data project is the visualization of data.\n",
    "\n",
    "The [Marker](https://python-visualization.github.io/folium/modules.html#folium.map.Marker) object expects the following parameters:\n",
    "- _location_ (Mandatory) Tuple of Floats (Like Map Object) to set a marker.\n",
    "- _popup_ (String or folium.Popup object) small info box that can be customized using HTML\n",
    "- _tooltip_ (String) hover text with instruction\n",
    "- _icon_ (folium.Icon) to customize the marker\n",
    "- _dragable_ (bool, default False) allows the user to move the marker\n",
    "\n",
    "To set a simple marker it is first created with a location.\n",
    "Then the marker has to be added to the map with the function _add_to(<folium.Map>)_. \n",
    "\n",
    "In the following the HBK BS should be marked on the map."
   ]
  },
  {
   "cell_type": "code",
   "execution_count": 4,
   "id": "59a91300-1dc7-4d27-826c-14a94fa13a45",
   "metadata": {
    "nbgrader": {
     "grade": false,
     "grade_id": "cell-3b289b02455e2512",
     "locked": true,
     "schema_version": 3,
     "solution": false,
     "task": false
    },
    "tags": []
   },
   "outputs": [
    {
     "data": {
      "text/html": [
       "<div style=\"width:100%;\"><div style=\"position:relative;width:100%;height:0;padding-bottom:60%;\"><span style=\"color:#565656\">Make this Notebook Trusted to load map: File -> Trust Notebook</span><iframe srcdoc=\"&lt;!DOCTYPE html&gt;\n",
       "&lt;html&gt;\n",
       "&lt;head&gt;\n",
       "    \n",
       "    &lt;meta http-equiv=&quot;content-type&quot; content=&quot;text/html; charset=UTF-8&quot; /&gt;\n",
       "    \n",
       "        &lt;script&gt;\n",
       "            L_NO_TOUCH = false;\n",
       "            L_DISABLE_3D = false;\n",
       "        &lt;/script&gt;\n",
       "    \n",
       "    &lt;style&gt;html, body {width: 100%;height: 100%;margin: 0;padding: 0;}&lt;/style&gt;\n",
       "    &lt;style&gt;#map {position:absolute;top:0;bottom:0;right:0;left:0;}&lt;/style&gt;\n",
       "    &lt;script src=&quot;https://cdn.jsdelivr.net/npm/leaflet@1.6.0/dist/leaflet.js&quot;&gt;&lt;/script&gt;\n",
       "    &lt;script src=&quot;https://code.jquery.com/jquery-1.12.4.min.js&quot;&gt;&lt;/script&gt;\n",
       "    &lt;script src=&quot;https://maxcdn.bootstrapcdn.com/bootstrap/3.2.0/js/bootstrap.min.js&quot;&gt;&lt;/script&gt;\n",
       "    &lt;script src=&quot;https://cdnjs.cloudflare.com/ajax/libs/Leaflet.awesome-markers/2.0.2/leaflet.awesome-markers.js&quot;&gt;&lt;/script&gt;\n",
       "    &lt;link rel=&quot;stylesheet&quot; href=&quot;https://cdn.jsdelivr.net/npm/leaflet@1.6.0/dist/leaflet.css&quot;/&gt;\n",
       "    &lt;link rel=&quot;stylesheet&quot; href=&quot;https://maxcdn.bootstrapcdn.com/bootstrap/3.2.0/css/bootstrap.min.css&quot;/&gt;\n",
       "    &lt;link rel=&quot;stylesheet&quot; href=&quot;https://maxcdn.bootstrapcdn.com/bootstrap/3.2.0/css/bootstrap-theme.min.css&quot;/&gt;\n",
       "    &lt;link rel=&quot;stylesheet&quot; href=&quot;https://maxcdn.bootstrapcdn.com/font-awesome/4.6.3/css/font-awesome.min.css&quot;/&gt;\n",
       "    &lt;link rel=&quot;stylesheet&quot; href=&quot;https://cdnjs.cloudflare.com/ajax/libs/Leaflet.awesome-markers/2.0.2/leaflet.awesome-markers.css&quot;/&gt;\n",
       "    &lt;link rel=&quot;stylesheet&quot; href=&quot;https://cdn.jsdelivr.net/gh/python-visualization/folium/folium/templates/leaflet.awesome.rotate.min.css&quot;/&gt;\n",
       "    \n",
       "            &lt;meta name=&quot;viewport&quot; content=&quot;width=device-width,\n",
       "                initial-scale=1.0, maximum-scale=1.0, user-scalable=no&quot; /&gt;\n",
       "            &lt;style&gt;\n",
       "                #map_438b7eacb1dbaddd59d0e2134f7ea658 {\n",
       "                    position: relative;\n",
       "                    width: 100.0%;\n",
       "                    height: 100.0%;\n",
       "                    left: 0.0%;\n",
       "                    top: 0.0%;\n",
       "                }\n",
       "            &lt;/style&gt;\n",
       "        \n",
       "&lt;/head&gt;\n",
       "&lt;body&gt;\n",
       "    \n",
       "    \n",
       "            &lt;div class=&quot;folium-map&quot; id=&quot;map_438b7eacb1dbaddd59d0e2134f7ea658&quot; &gt;&lt;/div&gt;\n",
       "        \n",
       "&lt;/body&gt;\n",
       "&lt;script&gt;\n",
       "    \n",
       "    \n",
       "            var map_438b7eacb1dbaddd59d0e2134f7ea658 = L.map(\n",
       "                &quot;map_438b7eacb1dbaddd59d0e2134f7ea658&quot;,\n",
       "                {\n",
       "                    center: [52.26415, 10.52642],\n",
       "                    crs: L.CRS.EPSG3857,\n",
       "                    zoom: 14,\n",
       "                    zoomControl: true,\n",
       "                    preferCanvas: false,\n",
       "                }\n",
       "            );\n",
       "\n",
       "            \n",
       "\n",
       "        \n",
       "    \n",
       "            var tile_layer_f8b1b54b65cfae633e974f07464674d8 = L.tileLayer(\n",
       "                &quot;https://{s}.tile.openstreetmap.org/{z}/{x}/{y}.png&quot;,\n",
       "                {&quot;attribution&quot;: &quot;Data by \\u0026copy; \\u003ca href=\\&quot;http://openstreetmap.org\\&quot;\\u003eOpenStreetMap\\u003c/a\\u003e, under \\u003ca href=\\&quot;http://www.openstreetmap.org/copyright\\&quot;\\u003eODbL\\u003c/a\\u003e.&quot;, &quot;detectRetina&quot;: false, &quot;maxNativeZoom&quot;: 18, &quot;maxZoom&quot;: 18, &quot;minZoom&quot;: 0, &quot;noWrap&quot;: false, &quot;opacity&quot;: 1, &quot;subdomains&quot;: &quot;abc&quot;, &quot;tms&quot;: false}\n",
       "            ).addTo(map_438b7eacb1dbaddd59d0e2134f7ea658);\n",
       "        \n",
       "    \n",
       "            var marker_a8c9fb93796eb7016d93b785ba243a29 = L.marker(\n",
       "                [52.25802230834961, 10.503097534179688],\n",
       "                {}\n",
       "            ).addTo(map_438b7eacb1dbaddd59d0e2134f7ea658);\n",
       "        \n",
       "&lt;/script&gt;\n",
       "&lt;/html&gt;\" style=\"position:absolute;width:100%;height:100%;left:0;top:0;border:none !important;\" allowfullscreen webkitallowfullscreen mozallowfullscreen></iframe></div></div>"
      ],
      "text/plain": [
       "<folium.folium.Map at 0x7f0ba03a6620>"
      ]
     },
     "execution_count": 4,
     "metadata": {},
     "output_type": "execute_result"
    }
   ],
   "source": [
    "m = folium.Map(\n",
    "        location=(52.264150, 10.526420),\n",
    "        tiles='OpenStreetMap',\n",
    "        zoom_start=14,\n",
    "        prefer_canvas=False\n",
    "    )\n",
    "\n",
    "my_marker = folium.Marker(\n",
    "    location=(52.25802230834961, 10.503097534179688)\n",
    "    )\n",
    "\n",
    "my_marker.add_to(m)\n",
    "\n",
    "m"
   ]
  },
  {
   "cell_type": "markdown",
   "id": "179b1901-ac37-4724-aa59-c76345c61805",
   "metadata": {
    "nbgrader": {
     "grade": false,
     "grade_id": "cell-d9ba7c4b83368403",
     "locked": true,
     "schema_version": 3,
     "solution": false,
     "task": false
    },
    "tags": []
   },
   "source": [
    "After executing the code you should see a marker at the address Johannes-Selenka-Platz 1, 38118 Braunschweig.\n",
    "\n",
    "Since this is relatively boring we will now try to adapt the marker to our needs."
   ]
  },
  {
   "cell_type": "markdown",
   "id": "071b4725-8f13-4d38-9ea6-8f62826baf17",
   "metadata": {
    "nbgrader": {
     "grade": false,
     "grade_id": "cell-0fd8e8915f7f9613",
     "locked": true,
     "schema_version": 3,
     "solution": false,
     "task": false
    },
    "tags": []
   },
   "source": [
    "### Popup & Tooltip\n",
    "\n",
    "The marker accepts strings as _tooltip_ & _popup_ parameters, as the following example demonstrates.\n",
    "This is the most primitive form of how a simple marker can be created with information.\n",
    "\n",
    "To understand what the _tooltip_ parameter does, run the next example and hover over the marker. Clicking on the marker will display the contents of the _popup_ parameter."
   ]
  },
  {
   "cell_type": "code",
   "execution_count": 41,
   "id": "33a5ffa1-7f39-46d4-9a17-35b3c8eb26ef",
   "metadata": {
    "nbgrader": {
     "grade": false,
     "grade_id": "cell-8b6f8ca79a9a05c3",
     "locked": true,
     "schema_version": 3,
     "solution": false,
     "task": false
    },
    "tags": []
   },
   "outputs": [
    {
     "data": {
      "text/html": [
       "<div style=\"width:100%;\"><div style=\"position:relative;width:100%;height:0;padding-bottom:60%;\"><span style=\"color:#565656\">Make this Notebook Trusted to load map: File -> Trust Notebook</span><iframe srcdoc=\"&lt;!DOCTYPE html&gt;\n",
       "&lt;html&gt;\n",
       "&lt;head&gt;\n",
       "    \n",
       "    &lt;meta http-equiv=&quot;content-type&quot; content=&quot;text/html; charset=UTF-8&quot; /&gt;\n",
       "    \n",
       "        &lt;script&gt;\n",
       "            L_NO_TOUCH = false;\n",
       "            L_DISABLE_3D = false;\n",
       "        &lt;/script&gt;\n",
       "    \n",
       "    &lt;style&gt;html, body {width: 100%;height: 100%;margin: 0;padding: 0;}&lt;/style&gt;\n",
       "    &lt;style&gt;#map {position:absolute;top:0;bottom:0;right:0;left:0;}&lt;/style&gt;\n",
       "    &lt;script src=&quot;https://cdn.jsdelivr.net/npm/leaflet@1.6.0/dist/leaflet.js&quot;&gt;&lt;/script&gt;\n",
       "    &lt;script src=&quot;https://code.jquery.com/jquery-1.12.4.min.js&quot;&gt;&lt;/script&gt;\n",
       "    &lt;script src=&quot;https://maxcdn.bootstrapcdn.com/bootstrap/3.2.0/js/bootstrap.min.js&quot;&gt;&lt;/script&gt;\n",
       "    &lt;script src=&quot;https://cdnjs.cloudflare.com/ajax/libs/Leaflet.awesome-markers/2.0.2/leaflet.awesome-markers.js&quot;&gt;&lt;/script&gt;\n",
       "    &lt;link rel=&quot;stylesheet&quot; href=&quot;https://cdn.jsdelivr.net/npm/leaflet@1.6.0/dist/leaflet.css&quot;/&gt;\n",
       "    &lt;link rel=&quot;stylesheet&quot; href=&quot;https://maxcdn.bootstrapcdn.com/bootstrap/3.2.0/css/bootstrap.min.css&quot;/&gt;\n",
       "    &lt;link rel=&quot;stylesheet&quot; href=&quot;https://maxcdn.bootstrapcdn.com/bootstrap/3.2.0/css/bootstrap-theme.min.css&quot;/&gt;\n",
       "    &lt;link rel=&quot;stylesheet&quot; href=&quot;https://maxcdn.bootstrapcdn.com/font-awesome/4.6.3/css/font-awesome.min.css&quot;/&gt;\n",
       "    &lt;link rel=&quot;stylesheet&quot; href=&quot;https://cdnjs.cloudflare.com/ajax/libs/Leaflet.awesome-markers/2.0.2/leaflet.awesome-markers.css&quot;/&gt;\n",
       "    &lt;link rel=&quot;stylesheet&quot; href=&quot;https://cdn.jsdelivr.net/gh/python-visualization/folium/folium/templates/leaflet.awesome.rotate.min.css&quot;/&gt;\n",
       "    \n",
       "            &lt;meta name=&quot;viewport&quot; content=&quot;width=device-width,\n",
       "                initial-scale=1.0, maximum-scale=1.0, user-scalable=no&quot; /&gt;\n",
       "            &lt;style&gt;\n",
       "                #map_a1e51814f0cc3cc77c4fd4856c0402ba {\n",
       "                    position: relative;\n",
       "                    width: 100.0%;\n",
       "                    height: 100.0%;\n",
       "                    left: 0.0%;\n",
       "                    top: 0.0%;\n",
       "                }\n",
       "            &lt;/style&gt;\n",
       "        \n",
       "&lt;/head&gt;\n",
       "&lt;body&gt;\n",
       "    \n",
       "    \n",
       "            &lt;div class=&quot;folium-map&quot; id=&quot;map_a1e51814f0cc3cc77c4fd4856c0402ba&quot; &gt;&lt;/div&gt;\n",
       "        \n",
       "&lt;/body&gt;\n",
       "&lt;script&gt;\n",
       "    \n",
       "    \n",
       "            var map_a1e51814f0cc3cc77c4fd4856c0402ba = L.map(\n",
       "                &quot;map_a1e51814f0cc3cc77c4fd4856c0402ba&quot;,\n",
       "                {\n",
       "                    center: [52.26415, 10.52642],\n",
       "                    crs: L.CRS.EPSG3857,\n",
       "                    zoom: 16,\n",
       "                    zoomControl: true,\n",
       "                    preferCanvas: false,\n",
       "                }\n",
       "            );\n",
       "\n",
       "            \n",
       "\n",
       "        \n",
       "    \n",
       "            var tile_layer_f065ee01f2b504fd433674bab91f388e = L.tileLayer(\n",
       "                &quot;https://{s}.tile.openstreetmap.org/{z}/{x}/{y}.png&quot;,\n",
       "                {&quot;attribution&quot;: &quot;Data by \\u0026copy; \\u003ca href=\\&quot;http://openstreetmap.org\\&quot;\\u003eOpenStreetMap\\u003c/a\\u003e, under \\u003ca href=\\&quot;http://www.openstreetmap.org/copyright\\&quot;\\u003eODbL\\u003c/a\\u003e.&quot;, &quot;detectRetina&quot;: false, &quot;maxNativeZoom&quot;: 18, &quot;maxZoom&quot;: 18, &quot;minZoom&quot;: 0, &quot;noWrap&quot;: false, &quot;opacity&quot;: 1, &quot;subdomains&quot;: &quot;abc&quot;, &quot;tms&quot;: false}\n",
       "            ).addTo(map_a1e51814f0cc3cc77c4fd4856c0402ba);\n",
       "        \n",
       "    \n",
       "            var marker_c03c951da7863540115fa21dae29b7b5 = L.marker(\n",
       "                [52.2643, 10.529],\n",
       "                {}\n",
       "            ).addTo(map_a1e51814f0cc3cc77c4fd4856c0402ba);\n",
       "        \n",
       "    \n",
       "        var popup_36a042169eb6721ed678e5f7f939f256 = L.popup({&quot;maxWidth&quot;: &quot;100%&quot;});\n",
       "\n",
       "        \n",
       "            \n",
       "                var html_9a0ca149ea20f9cf34d61e6c2ca6bb22 = $(`&lt;div id=&quot;html_9a0ca149ea20f9cf34d61e6c2ca6bb22&quot; style=&quot;width: 100.0%; height: 100.0%;&quot;&gt;Ritterbrunnen 1, 38100 Braunschweig&lt;/div&gt;`)[0];\n",
       "                popup_36a042169eb6721ed678e5f7f939f256.setContent(html_9a0ca149ea20f9cf34d61e6c2ca6bb22);\n",
       "            \n",
       "        \n",
       "\n",
       "        marker_c03c951da7863540115fa21dae29b7b5.bindPopup(popup_36a042169eb6721ed678e5f7f939f256)\n",
       "        ;\n",
       "\n",
       "        \n",
       "    \n",
       "    \n",
       "            marker_c03c951da7863540115fa21dae29b7b5.bindTooltip(\n",
       "                `&lt;div&gt;\n",
       "                     More about the castle\n",
       "                 &lt;/div&gt;`,\n",
       "                {&quot;sticky&quot;: true}\n",
       "            );\n",
       "        \n",
       "&lt;/script&gt;\n",
       "&lt;/html&gt;\" style=\"position:absolute;width:100%;height:100%;left:0;top:0;border:none !important;\" allowfullscreen webkitallowfullscreen mozallowfullscreen></iframe></div></div>"
      ],
      "text/plain": [
       "<folium.folium.Map at 0x7fd2ac1b3730>"
      ]
     },
     "execution_count": 41,
     "metadata": {},
     "output_type": "execute_result"
    }
   ],
   "source": [
    "m = folium.Map(\n",
    "        location=(52.264150, 10.526420),\n",
    "        tiles='OpenStreetMap',\n",
    "        zoom_start=16,\n",
    "        prefer_canvas=False\n",
    "    )\n",
    "\n",
    "# Schloss Braunschweig\n",
    "castle_popup = \"Ritterbrunnen 1, 38100 Braunschweig\"\n",
    "castle_tooltip = \"More about the castle\"\n",
    "\n",
    "\n",
    "castle_marker = folium.Marker(\n",
    "                    location=(52.2643, 10.529),\n",
    "                    popup=castle_popup,\n",
    "                    tooltip=castle_tooltip\n",
    "                    )\n",
    "castle_marker.add_to(m)\n",
    "\n",
    "m"
   ]
  },
  {
   "cell_type": "markdown",
   "id": "cadd0223-d6d5-445a-ac7b-ead3b010260f",
   "metadata": {
    "nbgrader": {
     "grade": false,
     "grade_id": "cell-cfc72d893f2572ff",
     "locked": true,
     "schema_version": 3,
     "solution": false,
     "task": false
    },
    "tags": []
   },
   "source": [
    "### HTML Popups\n",
    "\n",
    "To do justice to the inner artist as well, markers can also be designed in Folium using the tools of the modern internet.\n",
    "\n",
    "The Folium object [Popup](https://python-visualization.github.io/folium/modules.html#folium.map.Popup) can be used to display simple HTML strings. \n",
    "\n",
    "Before we get to the main features of HTML for Folium, we will first take a look at the other optional parameters of the Popup object.\n",
    "\n",
    "These include:\n",
    "\n",
    "- _parse_html_ (bool, default False) not normally needed, forces Folium to interpret the HTML string first. Useful for any customization via JavaScript.\n",
    "- _max_width_ (int or str, default '100%') sets the maximum width of the popup. For the str parameter it is important to include the '%' character.\n",
    "- _show_ (bool, default False) if this parameter is set to _True_, the popup will load when the map is opened.\n",
    "- _sticky_ (bool, default False) if this parameter is set to _True_, the popup will not be closed.\n",
    "\n",
    "\n",
    "Mandatory for creating a popup is the _html_ parameter. This parameter requires a (multi-)string containing HTML code.\n",
    "\n",
    "As an example we will create a HBK BS popup which renders the following HTML:\n",
    "\n",
    "---\n",
    "<p>\n",
    "<img \n",
    "    src=\"https://encrypted-tbn0.gstatic.com/images?q=tbn:ANd9GcTQljcfUJU-McweJqE6_gTa2u4ZxLPc5rCm45q4cKq3&amp;s\"\n",
    "    alt=\"HBK BS Logo\">\n",
    "</p>\n",
    "<p><strong>Johannes-Selenka-Platz 1</strong></p>\n",
    "<p><em>38118 Braunschweig</em></p>\n",
    "<p><small>Germany, DE</small></p>\n",
    "<p>Visit: <a href=\"https://www.hbk-bs.de/\">hbk-bs.de</a> </p>\n",
    "\n",
    "---\n",
    "\n",
    "\n",
    "and the associated HTML:\n",
    "\n",
    "---\n",
    "```html\n",
    "<p>\n",
    "<img \n",
    "    src=\"https://encrypted-tbn0.gstatic.com/images?q=tbn:ANd9GcTQljcfUJU-McweJqE6_gTa2u4ZxLPc5rCm45q4cKq3&amp;s\"\n",
    "    alt=\"HBK BS Logo\">\n",
    "</p>\n",
    "<p><strong>Johannes-Selenka-Platz 1</strong></p>\n",
    "<p><em>38118 Braunschweig</em></p>\n",
    "<p><small>Germany, DE</small></p>\n",
    "<p>Visit: <a href=\"https://www.hbk-bs.de/\">hbk-bs.de</a></p>\n",
    "```\n",
    "---\n",
    "\n",
    "Do not let this confuse you. The statements in between `<> & </>` are HTML tags, for example `<p>` represents a 'Paragraph' & `<a>` represents a hyperlink. \n",
    "For the text semantic elements I recommend the following [reference](https://www.w3.org/html/wiki/Elements).\n",
    "\n",
    "In Python, no HTML can be displayed directly. For this, the entire HTML must be within a string. To simplify the readability Python offers the multiline string notated with:\n",
    "\n",
    "\n",
    "---\n",
    "'''\n",
    "hi I am\n",
    "\n",
    "\n",
    "a\n",
    "\n",
    "multiline string\n",
    "'''\n",
    "\n",
    "---\n",
    "\n",
    "And as with the already known string, this one supports all string format options. But more about that later in the Factory Patterns part.\n"
   ]
  },
  {
   "cell_type": "code",
   "execution_count": 82,
   "id": "db9725a6-c438-4a23-9e5b-5b401d412832",
   "metadata": {
    "nbgrader": {
     "grade": false,
     "grade_id": "cell-b683105305025808",
     "locked": true,
     "schema_version": 3,
     "solution": false,
     "task": false
    },
    "tags": []
   },
   "outputs": [],
   "source": [
    "# HBK Braunschweig\n",
    "hbk_popup_html = folium.Popup(\n",
    "    '''\n",
    "    <p>\n",
    "    <img \n",
    "        src=\"https://encrypted-tbn0.gstatic.com/images?q=tbn:ANd9GcTQljcfUJU-McweJqE6_gTa2u4ZxLPc5rCm45q4cKq3&amp;s\"\n",
    "        alt=\"HBK BS Logo\">\n",
    "    </p>\n",
    "    <p><strong>Johannes-Selenka-Platz 1</strong></p>\n",
    "    <p><em>38118 Braunschweig</em></p>\n",
    "    <p><small>Germany, DE</small></p>\n",
    "    <p>Visit: <a href=\"https://www.hbk-bs.de/\">hbk-bs.de</a> </p>\n",
    "    ''',\n",
    "    show=True\n",
    "    )\n",
    "\n",
    "hbk_tooltip = \"More about the university\""
   ]
  },
  {
   "cell_type": "markdown",
   "id": "2773d557-e6ca-406c-9de1-b9c0675e0604",
   "metadata": {
    "nbgrader": {
     "grade": false,
     "grade_id": "cell-cf6a889f7ebf8a54",
     "locked": true,
     "schema_version": 3,
     "solution": false,
     "task": false
    },
    "tags": []
   },
   "source": [
    "### Icon\n",
    "\n",
    "The last step to complete the marker is the [Icon](https://python-visualization.github.io/folium/modules.html#folium.map.Icon) object.\n",
    "\n",
    "Unlike the other objects discussed, this one has no mandatory parameters.\n",
    "\n",
    "As usual, here is an explanation of the parameters:\n",
    "- _color_ (str, default 'blue') sets the color of the marker. Possible colors are:    \n",
    "    - red, blue, green,\n",
    "    - purple, orange, darkred,\n",
    "    - lightred, beige, darkblue,\n",
    "    - darkgreen, cadetblue, darkpurple,-\n",
    "    - white, pink, lightblue,\n",
    "    - lightgreen, gray, black,\n",
    "    - lightgray\n",
    "    \n",
    "    \n",
    "    or any hexadecimal value noted with '#XXXXXX'.\n",
    "\n",
    "- _icon_color_ (str, default 'white') sets the color of the glyphicon. The possible color values are the same as for _color_.\n",
    "- _angle_ (int, default 0) sets the rotation of the glyphicon. The possible values are limited to the range 0-359 integer.\n",
    "- _prefix_ (str, default 'glyphicon) can take two values 'fa' for the icons of the website [Font Awesome](https://fontawesome.com/icons) (Attention not all icons are free) and 'glyphicon' for the icons of the website [Bootstrap](https://getbootstrap.com/docs/3.3/components/) (All icons behind this link are free). The value in _prefix_ specifies which website is queried. \n",
    "- _icon_ (str, default 'info-sign') specifies the name of the icon to be displayed and is therefore dependent on the _prefix_ parameter. The default icon is 'glyphicon glyphicon-info-sign'.\n",
    "\n",
    "To design a reasonable icon for the HBK marker the following example should be understood:"
   ]
  },
  {
   "cell_type": "code",
   "execution_count": 83,
   "id": "8f79bd13-82f0-478c-8409-1e97d79d4b26",
   "metadata": {
    "nbgrader": {
     "grade": false,
     "grade_id": "cell-5e1cf782bc0512c1",
     "locked": true,
     "schema_version": 3,
     "solution": false,
     "task": false
    },
    "tags": []
   },
   "outputs": [],
   "source": [
    "hbk_icon = folium.Icon(\n",
    "            color='black',\n",
    "            icon_color='#deddda',\n",
    "            prefix='glyphicon',\n",
    "            icon='glyphicon-home',\n",
    "            angle=0\n",
    "            )"
   ]
  },
  {
   "cell_type": "markdown",
   "id": "4a2ffb76-8045-4cba-a416-5555f521889b",
   "metadata": {
    "nbgrader": {
     "grade": false,
     "grade_id": "cell-8d4b5a5cb9cc90cc",
     "locked": true,
     "schema_version": 3,
     "solution": false,
     "task": false
    },
    "tags": []
   },
   "source": [
    "After successfully creating the three variables _hbk_tooltip_, _hbk_html_popup_ & _hbk_icon_, we now display the customized marker:"
   ]
  },
  {
   "cell_type": "code",
   "execution_count": 84,
   "id": "852785cc-0dff-4c2c-b6bb-20d08e26349f",
   "metadata": {
    "nbgrader": {
     "grade": false,
     "grade_id": "cell-62068ff221befbb2",
     "locked": true,
     "schema_version": 3,
     "solution": false,
     "task": false
    },
    "tags": []
   },
   "outputs": [
    {
     "data": {
      "text/html": [
       "<div style=\"width:100%;\"><div style=\"position:relative;width:100%;height:0;padding-bottom:60%;\"><span style=\"color:#565656\">Make this Notebook Trusted to load map: File -> Trust Notebook</span><iframe srcdoc=\"&lt;!DOCTYPE html&gt;\n",
       "&lt;html&gt;\n",
       "&lt;head&gt;\n",
       "    \n",
       "    &lt;meta http-equiv=&quot;content-type&quot; content=&quot;text/html; charset=UTF-8&quot; /&gt;\n",
       "    \n",
       "        &lt;script&gt;\n",
       "            L_NO_TOUCH = false;\n",
       "            L_DISABLE_3D = false;\n",
       "        &lt;/script&gt;\n",
       "    \n",
       "    &lt;style&gt;html, body {width: 100%;height: 100%;margin: 0;padding: 0;}&lt;/style&gt;\n",
       "    &lt;style&gt;#map {position:absolute;top:0;bottom:0;right:0;left:0;}&lt;/style&gt;\n",
       "    &lt;script src=&quot;https://cdn.jsdelivr.net/npm/leaflet@1.6.0/dist/leaflet.js&quot;&gt;&lt;/script&gt;\n",
       "    &lt;script src=&quot;https://code.jquery.com/jquery-1.12.4.min.js&quot;&gt;&lt;/script&gt;\n",
       "    &lt;script src=&quot;https://maxcdn.bootstrapcdn.com/bootstrap/3.2.0/js/bootstrap.min.js&quot;&gt;&lt;/script&gt;\n",
       "    &lt;script src=&quot;https://cdnjs.cloudflare.com/ajax/libs/Leaflet.awesome-markers/2.0.2/leaflet.awesome-markers.js&quot;&gt;&lt;/script&gt;\n",
       "    &lt;link rel=&quot;stylesheet&quot; href=&quot;https://cdn.jsdelivr.net/npm/leaflet@1.6.0/dist/leaflet.css&quot;/&gt;\n",
       "    &lt;link rel=&quot;stylesheet&quot; href=&quot;https://maxcdn.bootstrapcdn.com/bootstrap/3.2.0/css/bootstrap.min.css&quot;/&gt;\n",
       "    &lt;link rel=&quot;stylesheet&quot; href=&quot;https://maxcdn.bootstrapcdn.com/bootstrap/3.2.0/css/bootstrap-theme.min.css&quot;/&gt;\n",
       "    &lt;link rel=&quot;stylesheet&quot; href=&quot;https://maxcdn.bootstrapcdn.com/font-awesome/4.6.3/css/font-awesome.min.css&quot;/&gt;\n",
       "    &lt;link rel=&quot;stylesheet&quot; href=&quot;https://cdnjs.cloudflare.com/ajax/libs/Leaflet.awesome-markers/2.0.2/leaflet.awesome-markers.css&quot;/&gt;\n",
       "    &lt;link rel=&quot;stylesheet&quot; href=&quot;https://cdn.jsdelivr.net/gh/python-visualization/folium/folium/templates/leaflet.awesome.rotate.min.css&quot;/&gt;\n",
       "    \n",
       "            &lt;meta name=&quot;viewport&quot; content=&quot;width=device-width,\n",
       "                initial-scale=1.0, maximum-scale=1.0, user-scalable=no&quot; /&gt;\n",
       "            &lt;style&gt;\n",
       "                #map_bbfa2e769bdc385d115ea8e8bccb3204 {\n",
       "                    position: relative;\n",
       "                    width: 100.0%;\n",
       "                    height: 100.0%;\n",
       "                    left: 0.0%;\n",
       "                    top: 0.0%;\n",
       "                }\n",
       "            &lt;/style&gt;\n",
       "        \n",
       "&lt;/head&gt;\n",
       "&lt;body&gt;\n",
       "    \n",
       "    \n",
       "            &lt;div class=&quot;folium-map&quot; id=&quot;map_bbfa2e769bdc385d115ea8e8bccb3204&quot; &gt;&lt;/div&gt;\n",
       "        \n",
       "&lt;/body&gt;\n",
       "&lt;script&gt;\n",
       "    \n",
       "    \n",
       "            var map_bbfa2e769bdc385d115ea8e8bccb3204 = L.map(\n",
       "                &quot;map_bbfa2e769bdc385d115ea8e8bccb3204&quot;,\n",
       "                {\n",
       "                    center: [52.258, 10.5],\n",
       "                    crs: L.CRS.EPSG3857,\n",
       "                    zoom: 16,\n",
       "                    zoomControl: true,\n",
       "                    preferCanvas: false,\n",
       "                }\n",
       "            );\n",
       "\n",
       "            \n",
       "\n",
       "        \n",
       "    \n",
       "            var tile_layer_c5e86a69a371ced6240ba3fd33ca12d1 = L.tileLayer(\n",
       "                &quot;https://{s}.tile.openstreetmap.org/{z}/{x}/{y}.png&quot;,\n",
       "                {&quot;attribution&quot;: &quot;Data by \\u0026copy; \\u003ca href=\\&quot;http://openstreetmap.org\\&quot;\\u003eOpenStreetMap\\u003c/a\\u003e, under \\u003ca href=\\&quot;http://www.openstreetmap.org/copyright\\&quot;\\u003eODbL\\u003c/a\\u003e.&quot;, &quot;detectRetina&quot;: false, &quot;maxNativeZoom&quot;: 18, &quot;maxZoom&quot;: 18, &quot;minZoom&quot;: 0, &quot;noWrap&quot;: false, &quot;opacity&quot;: 1, &quot;subdomains&quot;: &quot;abc&quot;, &quot;tms&quot;: false}\n",
       "            ).addTo(map_bbfa2e769bdc385d115ea8e8bccb3204);\n",
       "        \n",
       "    \n",
       "            var marker_33344a101918aca6e64d7644b12e61cb = L.marker(\n",
       "                [52.25777, 10.50249],\n",
       "                {}\n",
       "            ).addTo(map_bbfa2e769bdc385d115ea8e8bccb3204);\n",
       "        \n",
       "    \n",
       "            var icon_4c2b6909ad50654aaeb33d5c2f790125 = L.AwesomeMarkers.icon(\n",
       "                {&quot;extraClasses&quot;: &quot;fa-rotate-0&quot;, &quot;icon&quot;: &quot;glyphicon-home&quot;, &quot;iconColor&quot;: &quot;#deddda&quot;, &quot;markerColor&quot;: &quot;black&quot;, &quot;prefix&quot;: &quot;glyphicon&quot;}\n",
       "            );\n",
       "            marker_33344a101918aca6e64d7644b12e61cb.setIcon(icon_4c2b6909ad50654aaeb33d5c2f790125);\n",
       "        \n",
       "    \n",
       "        var popup_015e7050ca98aa8469c2300bf0cf950b = L.popup({&quot;autoClose&quot;: false, &quot;maxWidth&quot;: &quot;100%&quot;});\n",
       "\n",
       "        \n",
       "            \n",
       "                var html_09fbad4df000df14ffcea0d2982828f1 = $(`&lt;div id=&quot;html_09fbad4df000df14ffcea0d2982828f1&quot; style=&quot;width: 100.0%; height: 100.0%;&quot;&gt;     &lt;p&gt;     &lt;img          src=&quot;https://encrypted-tbn0.gstatic.com/images?q=tbn:ANd9GcTQljcfUJU-McweJqE6_gTa2u4ZxLPc5rCm45q4cKq3&amp;amp;s&quot;         alt=&quot;HBK BS Logo&quot;&gt;     &lt;/p&gt;     &lt;p&gt;&lt;strong&gt;Johannes-Selenka-Platz 1&lt;/strong&gt;&lt;/p&gt;     &lt;p&gt;&lt;em&gt;38118 Braunschweig&lt;/em&gt;&lt;/p&gt;     &lt;p&gt;&lt;small&gt;Germany, DE&lt;/small&gt;&lt;/p&gt;     &lt;p&gt;Visit: &lt;a href=&quot;https://www.hbk-bs.de/&quot;&gt;hbk-bs.de&lt;/a&gt; &lt;/p&gt;     &lt;/div&gt;`)[0];\n",
       "                popup_015e7050ca98aa8469c2300bf0cf950b.setContent(html_09fbad4df000df14ffcea0d2982828f1);\n",
       "            \n",
       "        \n",
       "\n",
       "        marker_33344a101918aca6e64d7644b12e61cb.bindPopup(popup_015e7050ca98aa8469c2300bf0cf950b)\n",
       "        .openPopup();\n",
       "\n",
       "        \n",
       "    \n",
       "    \n",
       "            marker_33344a101918aca6e64d7644b12e61cb.bindTooltip(\n",
       "                `&lt;div&gt;\n",
       "                     More about the university\n",
       "                 &lt;/div&gt;`,\n",
       "                {&quot;sticky&quot;: true}\n",
       "            );\n",
       "        \n",
       "&lt;/script&gt;\n",
       "&lt;/html&gt;\" style=\"position:absolute;width:100%;height:100%;left:0;top:0;border:none !important;\" allowfullscreen webkitallowfullscreen mozallowfullscreen></iframe></div></div>"
      ],
      "text/plain": [
       "<folium.folium.Map at 0x7fd29f4947f0>"
      ]
     },
     "execution_count": 84,
     "metadata": {},
     "output_type": "execute_result"
    }
   ],
   "source": [
    "m = folium.Map(\n",
    "        location=(52.258, 10.5),\n",
    "        tiles='OpenStreetMap',\n",
    "        zoom_start=16,\n",
    "        prefer_canvas=False\n",
    "    )\n",
    "\n",
    "hbk_marker = folium.Marker(\n",
    "                location=(52.257770, 10.502490),\n",
    "                popup=hbk_popup_html,\n",
    "                tooltip=hbk_tooltip,\n",
    "                icon=hbk_icon\n",
    "            )\n",
    "\n",
    "hbk_marker.add_to(m)\n",
    "\n",
    "m"
   ]
  },
  {
   "cell_type": "markdown",
   "id": "6a7a1f4d-720b-4152-a90b-c9a194494cbe",
   "metadata": {
    "nbgrader": {
     "grade": false,
     "grade_id": "cell-a6152b205ccf50ed",
     "locked": true,
     "schema_version": 3,
     "solution": false,
     "task": false
    },
    "tags": []
   },
   "source": [
    "## Exercise 2: Design your own Marker\n",
    "\n",
    "In the following exercise you will design your own marker.\n",
    "\n",
    "In case of problems, please check the Folium API:\n",
    "- [Marker](https://python-visualization.github.io/folium/modules.html#folium.map.Marker)\n",
    "- [Popup](https://python-visualization.github.io/folium/modules.html#folium.map.Popup)\n",
    "- [Icon](https://python-visualization.github.io/folium/modules.html#folium.map.Icon)\n",
    "- [Tooltip](https://python-visualization.github.io/folium/modules.html#folium.map.Tooltip)"
   ]
  },
  {
   "cell_type": "markdown",
   "id": "093f0526-114f-45da-947a-550f2163030a",
   "metadata": {
    "nbgrader": {
     "grade": false,
     "grade_id": "cell-d5aa18ce07303756",
     "locked": true,
     "schema_version": 3,
     "solution": false,
     "task": false
    },
    "tags": []
   },
   "source": [
    "### 2.1: Defining a Tooltip\n",
    "\n",
    "Define a tooltip variable with the text _More about TU Braunschweig_."
   ]
  },
  {
   "cell_type": "code",
   "execution_count": 85,
   "id": "725abb1e-f8c4-4cca-be6f-326f23126062",
   "metadata": {
    "nbgrader": {
     "grade": true,
     "grade_id": "cell-04f53b3f7eb6c201",
     "locked": false,
     "points": 0,
     "schema_version": 3,
     "solution": true,
     "task": false
    },
    "tags": []
   },
   "outputs": [
    {
     "ename": "TypeError",
     "evalue": "exceptions must derive from BaseException",
     "output_type": "error",
     "traceback": [
      "\u001b[0;31m---------------------------------------------------------------------------\u001b[0m",
      "\u001b[0;31mTypeError\u001b[0m                                 Traceback (most recent call last)",
      "Cell \u001b[0;32mIn [85], line 3\u001b[0m\n\u001b[1;32m      1\u001b[0m \u001b[38;5;66;03m### BEGIN SOLUTION\u001b[39;00m\n\u001b[0;32m----> 3\u001b[0m \u001b[38;5;28;01mraise\u001b[39;00m \u001b[38;5;28mNotImplemented\u001b[39m\n\u001b[1;32m      5\u001b[0m \u001b[38;5;66;03m### END SOLUTION\u001b[39;00m\n",
      "\u001b[0;31mTypeError\u001b[0m: exceptions must derive from BaseException"
     ]
    }
   ],
   "source": [
    "### BEGIN SOLUTION\n",
    "\n",
    "raise NotImplemented\n",
    "\n",
    "### END SOLUTION"
   ]
  },
  {
   "cell_type": "markdown",
   "id": "97aa8013-defd-408d-8b80-2389ff92904c",
   "metadata": {
    "nbgrader": {
     "grade": false,
     "grade_id": "cell-e943331e564dd5c6",
     "locked": true,
     "schema_version": 3,
     "solution": false,
     "task": false
    },
    "tags": []
   },
   "source": [
    "### 2.2: Defining a Popup\n",
    "\n",
    "Define a popup object with HTML text and the [TU BS Logo](https://www.google.com/url?sa=i&url=https%3A%2F%2Fde.m.wikipedia.org%2Fwiki%2FDatei%3ASiegel_TU_Braunschweig_transparent.svg&psig=AOvVaw3PFFLWsIPyXrT81Jo4F6ot&ust=1669222516763000&source=images&cd=vfe&ved=0CA8QjRxqFwoTCIjR-MqgwvsCFQAAAAAdAAAAABAE).\n",
    "\n",
    "You can find a HTML reference [here](https://www.w3.org/html/wiki/Elements). If you write better in Markdown I recommend the following [converter](https://markdowntohtml.com/) and this [Markdown reference](https://www.markdownguide.org/cheat-sheet/)."
   ]
  },
  {
   "cell_type": "code",
   "execution_count": 86,
   "id": "599b4313-9d53-46d8-be0e-dbf0ab707105",
   "metadata": {
    "nbgrader": {
     "grade": true,
     "grade_id": "cell-1f5f10be1f0c3e95",
     "locked": false,
     "points": 0,
     "schema_version": 3,
     "solution": true,
     "task": false
    },
    "tags": []
   },
   "outputs": [
    {
     "ename": "TypeError",
     "evalue": "exceptions must derive from BaseException",
     "output_type": "error",
     "traceback": [
      "\u001b[0;31m---------------------------------------------------------------------------\u001b[0m",
      "\u001b[0;31mTypeError\u001b[0m                                 Traceback (most recent call last)",
      "Cell \u001b[0;32mIn [86], line 3\u001b[0m\n\u001b[1;32m      1\u001b[0m \u001b[38;5;66;03m### BEGIN SOLUTION\u001b[39;00m\n\u001b[0;32m----> 3\u001b[0m \u001b[38;5;28;01mraise\u001b[39;00m \u001b[38;5;28mNotImplemented\u001b[39m\n\u001b[1;32m      5\u001b[0m \u001b[38;5;66;03m### END SOLUTION\u001b[39;00m\n",
      "\u001b[0;31mTypeError\u001b[0m: exceptions must derive from BaseException"
     ]
    }
   ],
   "source": [
    "### BEGIN SOLUTION\n",
    "\n",
    "raise NotImplemented\n",
    "\n",
    "### END SOLUTION"
   ]
  },
  {
   "cell_type": "markdown",
   "id": "541653fa-f882-4f15-90bb-2ad7665d380f",
   "metadata": {
    "nbgrader": {
     "grade": false,
     "grade_id": "cell-d0ad985cc098c85f",
     "locked": true,
     "schema_version": 3,
     "solution": false,
     "task": false
    }
   },
   "source": [
    "### 2.3 Defining an Icon\n",
    "\n",
    "Next, a _red_ icon should be defined.\n",
    "\n",
    "The color for the glyphicon should be a gray hexcode that you can choose freely. To make the color selection easier you can use the [Color Picker](https://htmlcolorcodes.com/color-picker/).\n",
    "\n",
    "As glyph, _glyphicon-education_, should be used. "
   ]
  },
  {
   "cell_type": "code",
   "execution_count": 87,
   "id": "7adb36ce-9012-4a9a-b025-2b7a91b4d2ac",
   "metadata": {
    "nbgrader": {
     "grade": true,
     "grade_id": "cell-3ec775c00a9d80a2",
     "locked": false,
     "points": 0,
     "schema_version": 3,
     "solution": true,
     "task": false
    },
    "tags": []
   },
   "outputs": [
    {
     "ename": "TypeError",
     "evalue": "exceptions must derive from BaseException",
     "output_type": "error",
     "traceback": [
      "\u001b[0;31m---------------------------------------------------------------------------\u001b[0m",
      "\u001b[0;31mTypeError\u001b[0m                                 Traceback (most recent call last)",
      "Cell \u001b[0;32mIn [87], line 3\u001b[0m\n\u001b[1;32m      1\u001b[0m \u001b[38;5;66;03m### BEGIN SOLUTION\u001b[39;00m\n\u001b[0;32m----> 3\u001b[0m \u001b[38;5;28;01mraise\u001b[39;00m \u001b[38;5;28mNotImplemented\u001b[39m\n\u001b[1;32m      5\u001b[0m \u001b[38;5;66;03m### END SOLUTION\u001b[39;00m\n",
      "\u001b[0;31mTypeError\u001b[0m: exceptions must derive from BaseException"
     ]
    }
   ],
   "source": [
    "### BEGIN SOLUTION\n",
    "\n",
    "raise NotImplemented\n",
    "\n",
    "### END SOLUTION"
   ]
  },
  {
   "cell_type": "markdown",
   "id": "287924de-5810-4f3c-8b36-e3308798b3ea",
   "metadata": {
    "nbgrader": {
     "grade": false,
     "grade_id": "cell-b16e407b56f6a000",
     "locked": true,
     "schema_version": 3,
     "solution": false,
     "task": false
    },
    "tags": []
   },
   "source": [
    "### 2.4 Defining a Marker\n",
    "\n",
    "All previously created objects should now be combined into one marker."
   ]
  },
  {
   "cell_type": "code",
   "execution_count": 101,
   "id": "c7dd4f94-e7d2-4c11-9426-f911462e122c",
   "metadata": {
    "nbgrader": {
     "grade": false,
     "grade_id": "cell-43ce13ffa68645bc",
     "locked": true,
     "points": 0,
     "schema_version": 3,
     "solution": false,
     "task": true
    },
    "tags": []
   },
   "outputs": [
    {
     "ename": "SyntaxError",
     "evalue": "invalid syntax (4117681784.py, line 5)",
     "output_type": "error",
     "traceback": [
      "\u001b[0;36m  Cell \u001b[0;32mIn [101], line 5\u001b[0;36m\u001b[0m\n\u001b[0;31m    tooltip=\u001b[0m\n\u001b[0m           ^\u001b[0m\n\u001b[0;31mSyntaxError\u001b[0m\u001b[0;31m:\u001b[0m invalid syntax\n"
     ]
    }
   ],
   "source": [
    "tu_bs_marker = folium.Marker(\n",
    "        location=(52.273460, 10.529231),\n",
    "        ### BEGIN SOLUTION\n",
    "        popup=\n",
    "        tooltip=\n",
    "        icon=\n",
    "        ### END SOLUTION\n",
    "    )"
   ]
  },
  {
   "cell_type": "code",
   "execution_count": 100,
   "id": "13fa1a0f-f06e-4042-bae6-254fc99640e7",
   "metadata": {
    "nbgrader": {
     "grade": false,
     "grade_id": "cell-365a8eef0b32decd",
     "locked": true,
     "schema_version": 3,
     "solution": false,
     "task": false
    },
    "tags": []
   },
   "outputs": [
    {
     "data": {
      "text/html": [
       "<div style=\"width:100%;\"><div style=\"position:relative;width:100%;height:0;padding-bottom:60%;\"><span style=\"color:#565656\">Make this Notebook Trusted to load map: File -> Trust Notebook</span><iframe srcdoc=\"&lt;!DOCTYPE html&gt;\n",
       "&lt;html&gt;\n",
       "&lt;head&gt;\n",
       "    \n",
       "    &lt;meta http-equiv=&quot;content-type&quot; content=&quot;text/html; charset=UTF-8&quot; /&gt;\n",
       "    \n",
       "        &lt;script&gt;\n",
       "            L_NO_TOUCH = false;\n",
       "            L_DISABLE_3D = false;\n",
       "        &lt;/script&gt;\n",
       "    \n",
       "    &lt;style&gt;html, body {width: 100%;height: 100%;margin: 0;padding: 0;}&lt;/style&gt;\n",
       "    &lt;style&gt;#map {position:absolute;top:0;bottom:0;right:0;left:0;}&lt;/style&gt;\n",
       "    &lt;script src=&quot;https://cdn.jsdelivr.net/npm/leaflet@1.6.0/dist/leaflet.js&quot;&gt;&lt;/script&gt;\n",
       "    &lt;script src=&quot;https://code.jquery.com/jquery-1.12.4.min.js&quot;&gt;&lt;/script&gt;\n",
       "    &lt;script src=&quot;https://maxcdn.bootstrapcdn.com/bootstrap/3.2.0/js/bootstrap.min.js&quot;&gt;&lt;/script&gt;\n",
       "    &lt;script src=&quot;https://cdnjs.cloudflare.com/ajax/libs/Leaflet.awesome-markers/2.0.2/leaflet.awesome-markers.js&quot;&gt;&lt;/script&gt;\n",
       "    &lt;link rel=&quot;stylesheet&quot; href=&quot;https://cdn.jsdelivr.net/npm/leaflet@1.6.0/dist/leaflet.css&quot;/&gt;\n",
       "    &lt;link rel=&quot;stylesheet&quot; href=&quot;https://maxcdn.bootstrapcdn.com/bootstrap/3.2.0/css/bootstrap.min.css&quot;/&gt;\n",
       "    &lt;link rel=&quot;stylesheet&quot; href=&quot;https://maxcdn.bootstrapcdn.com/bootstrap/3.2.0/css/bootstrap-theme.min.css&quot;/&gt;\n",
       "    &lt;link rel=&quot;stylesheet&quot; href=&quot;https://maxcdn.bootstrapcdn.com/font-awesome/4.6.3/css/font-awesome.min.css&quot;/&gt;\n",
       "    &lt;link rel=&quot;stylesheet&quot; href=&quot;https://cdnjs.cloudflare.com/ajax/libs/Leaflet.awesome-markers/2.0.2/leaflet.awesome-markers.css&quot;/&gt;\n",
       "    &lt;link rel=&quot;stylesheet&quot; href=&quot;https://cdn.jsdelivr.net/gh/python-visualization/folium/folium/templates/leaflet.awesome.rotate.min.css&quot;/&gt;\n",
       "    \n",
       "            &lt;meta name=&quot;viewport&quot; content=&quot;width=device-width,\n",
       "                initial-scale=1.0, maximum-scale=1.0, user-scalable=no&quot; /&gt;\n",
       "            &lt;style&gt;\n",
       "                #map_92c24fe6fb0423ee6a79f1a5fd827404 {\n",
       "                    position: relative;\n",
       "                    width: 100.0%;\n",
       "                    height: 100.0%;\n",
       "                    left: 0.0%;\n",
       "                    top: 0.0%;\n",
       "                }\n",
       "            &lt;/style&gt;\n",
       "        \n",
       "&lt;/head&gt;\n",
       "&lt;body&gt;\n",
       "    \n",
       "    \n",
       "            &lt;div class=&quot;folium-map&quot; id=&quot;map_92c24fe6fb0423ee6a79f1a5fd827404&quot; &gt;&lt;/div&gt;\n",
       "        \n",
       "&lt;/body&gt;\n",
       "&lt;script&gt;\n",
       "    \n",
       "    \n",
       "            var map_92c24fe6fb0423ee6a79f1a5fd827404 = L.map(\n",
       "                &quot;map_92c24fe6fb0423ee6a79f1a5fd827404&quot;,\n",
       "                {\n",
       "                    center: [52.274, 10.53],\n",
       "                    crs: L.CRS.EPSG3857,\n",
       "                    zoom: 17,\n",
       "                    zoomControl: true,\n",
       "                    preferCanvas: false,\n",
       "                }\n",
       "            );\n",
       "\n",
       "            \n",
       "\n",
       "        \n",
       "    \n",
       "            var tile_layer_59720cfe4f96ddb83a2e56a4ada0d5c7 = L.tileLayer(\n",
       "                &quot;https://{s}.tile.openstreetmap.org/{z}/{x}/{y}.png&quot;,\n",
       "                {&quot;attribution&quot;: &quot;Data by \\u0026copy; \\u003ca href=\\&quot;http://openstreetmap.org\\&quot;\\u003eOpenStreetMap\\u003c/a\\u003e, under \\u003ca href=\\&quot;http://www.openstreetmap.org/copyright\\&quot;\\u003eODbL\\u003c/a\\u003e.&quot;, &quot;detectRetina&quot;: false, &quot;maxNativeZoom&quot;: 18, &quot;maxZoom&quot;: 18, &quot;minZoom&quot;: 0, &quot;noWrap&quot;: false, &quot;opacity&quot;: 1, &quot;subdomains&quot;: &quot;abc&quot;, &quot;tms&quot;: false}\n",
       "            ).addTo(map_92c24fe6fb0423ee6a79f1a5fd827404);\n",
       "        \n",
       "    \n",
       "            var marker_e063fc09853103f007fc5bc9c90b0ff3 = L.marker(\n",
       "                [52.27346, 10.529231],\n",
       "                {}\n",
       "            ).addTo(map_92c24fe6fb0423ee6a79f1a5fd827404);\n",
       "        \n",
       "&lt;/script&gt;\n",
       "&lt;/html&gt;\" style=\"position:absolute;width:100%;height:100%;left:0;top:0;border:none !important;\" allowfullscreen webkitallowfullscreen mozallowfullscreen></iframe></div></div>"
      ],
      "text/plain": [
       "<folium.folium.Map at 0x7fd29f36c6d0>"
      ]
     },
     "execution_count": 100,
     "metadata": {},
     "output_type": "execute_result"
    }
   ],
   "source": [
    "m = folium.Map(\n",
    "        location=(52.274, 10.53),\n",
    "        tiles='OpenStreetMap',\n",
    "        zoom_start=17,\n",
    "        prefer_canvas=False\n",
    "    )\n",
    "\n",
    "tu_bs_marker.add_to(m)\n",
    "m"
   ]
  },
  {
   "cell_type": "code",
   "execution_count": null,
   "id": "6138524a-81bc-4234-b1fc-530d46880249",
   "metadata": {},
   "outputs": [],
   "source": []
  }
 ],
 "metadata": {
  "kernelspec": {
   "display_name": "Python 3 (ipykernel)",
   "language": "python",
   "name": "python3"
  },
  "language_info": {
   "codemirror_mode": {
    "name": "ipython",
    "version": 3
   },
   "file_extension": ".py",
   "mimetype": "text/x-python",
   "name": "python",
   "nbconvert_exporter": "python",
   "pygments_lexer": "ipython3",
   "version": "3.10.6"
  },
  "toc-autonumbering": false
 },
 "nbformat": 4,
 "nbformat_minor": 5
}
